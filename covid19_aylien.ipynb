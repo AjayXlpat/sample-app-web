{
  "nbformat": 4,
  "nbformat_minor": 0,
  "metadata": {
    "colab": {
      "name": "covid19-aylien",
      "provenance": [],
      "collapsed_sections": [],
      "machine_shape": "hm",
      "mount_file_id": "1kg0EAKx22qakHscdhFspAv596vkemPuD",
      "authorship_tag": "ABX9TyOaB6E39xBOd5TK5/CWWCm6",
      "include_colab_link": true
    },
    "kernelspec": {
      "name": "python3",
      "display_name": "Python 3"
    }
  },
  "cells": [
    {
      "cell_type": "markdown",
      "metadata": {
        "id": "view-in-github",
        "colab_type": "text"
      },
      "source": [
        "<a href=\"https://colab.research.google.com/github/AjayXlpat/sample-app-web/blob/master/covid19_aylien.ipynb\" target=\"_parent\"><img src=\"https://colab.research.google.com/assets/colab-badge.svg\" alt=\"Open In Colab\"/></a>"
      ]
    },
    {
      "cell_type": "code",
      "metadata": {
        "id": "0wSMJo6HPb_D",
        "colab_type": "code",
        "outputId": "5fde9f4b-4e98-4b7a-cd06-606045ce7f9e",
        "colab": {
          "base_uri": "https://localhost:8080/",
          "height": 208
        }
      },
      "source": [
        "\n",
        "!wget https://storage.googleapis.com/aylien-public-datasets/aylien-covid-news.jsonl.bz2\n"
      ],
      "execution_count": 3,
      "outputs": [
        {
          "output_type": "stream",
          "text": [
            "--2020-04-30 06:41:06--  https://storage.googleapis.com/aylien-public-datasets/aylien-covid-news.jsonl.bz2\n",
            "Resolving storage.googleapis.com (storage.googleapis.com)... 172.217.218.128, 2a00:1450:4013:c05::80\n",
            "Connecting to storage.googleapis.com (storage.googleapis.com)|172.217.218.128|:443... connected.\n",
            "HTTP request sent, awaiting response... 200 OK\n",
            "Length: 1215156540 (1.1G) [application/octet-stream]\n",
            "Saving to: ‘aylien-covid-news.jsonl.bz2’\n",
            "\n",
            "aylien-covid-news.j 100%[===================>]   1.13G  74.0MB/s    in 15s     \n",
            "\n",
            "2020-04-30 06:41:21 (78.6 MB/s) - ‘aylien-covid-news.jsonl.bz2’ saved [1215156540/1215156540]\n",
            "\n"
          ],
          "name": "stdout"
        }
      ]
    },
    {
      "cell_type": "code",
      "metadata": {
        "id": "IyYLw9vlVc-K",
        "colab_type": "code",
        "colab": {}
      },
      "source": [
        "!bzip2 -d aylien-covid-news.jsonl.bz2"
      ],
      "execution_count": 0,
      "outputs": []
    },
    {
      "cell_type": "code",
      "metadata": {
        "id": "Y3cMH28gbFeB",
        "colab_type": "code",
        "outputId": "e0ca95e3-44b8-4b00-eae8-81f81bd293a3",
        "colab": {
          "base_uri": "https://localhost:8080/",
          "height": 124
        }
      },
      "source": [
        "!pip install jsonlines"
      ],
      "execution_count": 5,
      "outputs": [
        {
          "output_type": "stream",
          "text": [
            "Collecting jsonlines\n",
            "  Downloading https://files.pythonhosted.org/packages/4f/9a/ab96291470e305504aa4b7a2e0ec132e930da89eb3ca7a82fbe03167c131/jsonlines-1.2.0-py2.py3-none-any.whl\n",
            "Requirement already satisfied: six in /usr/local/lib/python3.6/dist-packages (from jsonlines) (1.12.0)\n",
            "Installing collected packages: jsonlines\n",
            "Successfully installed jsonlines-1.2.0\n"
          ],
          "name": "stdout"
        }
      ]
    },
    {
      "cell_type": "code",
      "metadata": {
        "id": "pPDmmoBNQ_0I",
        "colab_type": "code",
        "outputId": "46f3123d-b17b-42e6-b6fc-02c378e0c0c8",
        "colab": {
          "base_uri": "https://localhost:8080/",
          "height": 54
        }
      },
      "source": [
        "import jsonlines\n",
        "\n",
        "j=0\n",
        "\n",
        "with jsonlines.open('aylien-covid-news.jsonl') as f:\n",
        "\n",
        "    for line in f.iter():\n",
        "        js=line\n",
        "\n",
        "        print(line)\n",
        "        j=j+1\n",
        "        if j==1:\n",
        "          break\n",
        "\n",
        "    "
      ],
      "execution_count": 6,
      "outputs": [
        {
          "output_type": "stream",
          "text": [
            "{'author': {'avatar_url': None, 'id': 973106, 'name': 'Gavin Evans'}, 'body': 'On Sunday, British Prime Minister Boris Johnson was hospitalized \"for tests\" because of \"persistent\" COVID-19 symptoms\\xa010 days\\xa0after he tested positive, CNN reports.\\xa0\\nJohnson reportedly went to the unspecified London hospital after his doctor advised him to do so. A press release from his office called the\\xa0move\\xa0\"precautionary.\"\\xa0\\nOn March 26, Johnson revealed he had tested positive and that he had been dealing with symptoms since that date. Britain had gone into lockdown two days earlier.\\nSince the 26th, Johnson has been quarantined at his Downing Street residence. He is the first known world leader to have contracted the virus.\\xa0\\nRoughly a month ago, right around the time the U.K. started dealing with an outbreak, Johnson garnered media coverage for saying he\\'d shook hands with coronavirus patients during a hospital visit. \\xa0\\n\"I shook hands with everybody, you will be pleased to know, and I continue to shake hands,\" Johnson said during a press conference that took place on March 3. His positive test was registered 23 days later.\\xa0\\nOn Saturday, Johnson\\'s fiancée, Carrie Symonds, tweeted out that she\\'d spent a week in bed with coronavirus symptoms. She had not officially been tested for the disease, but said she felt \"stronger\" and \"on the mend\" following the week of rest:', 'categories': [{'confident': True, 'id': 'IAB7-3', 'level': 2, 'links': {'_self': 'https://api.aylien.com/api/v1/classify/taxonomy/iab-qag/IAB7-3', 'parent': 'https://api.aylien.com/api/v1/classify/taxonomy/iab-qag/IAB7'}, 'score': 0.11, 'taxonomy': 'iab-qag'}, {'confident': True, 'id': 'IAB7', 'level': 1, 'links': {'_self': 'https://api.aylien.com/api/v1/classify/taxonomy/iab-qag/IAB7', 'parent': None}, 'score': 0.09, 'taxonomy': 'iab-qag'}, {'confident': True, 'id': '07003004', 'level': 3, 'links': {'_self': 'https://api.aylien.com/api/v1/classify/taxonomy/iptc-subjectcode/07003004', 'parent': 'https://api.aylien.com/api/v1/classify/taxonomy/iptc-subjectcode/07003000'}, 'score': 0.13, 'taxonomy': 'iptc-subjectcode'}], 'characters_count': 1288, 'entities': {'body': [{'indices': [[34, 46]], 'links': {'dbpedia': 'http://dbpedia.org/resource/Boris_Johnson'}, 'score': 1.0, 'text': 'Boris Johnson', 'types': ['Agent', 'OfficeHolder', 'Person', 'Politician']}, {'indices': [[1092, 1098]], 'links': {'dbpedia': 'http://dbpedia.org/resource/Twitter'}, 'score': 0.9999861717224121, 'text': 'tweeted', 'types': ['Company', 'Agent', 'Organisation', 'Work', 'Product', 'Website', 'Service']}, {'indices': [[153, 155]], 'links': {'dbpedia': 'http://dbpedia.org/resource/CNN'}, 'score': 0.9998425841331482, 'text': 'CNN', 'types': ['Agent', 'TelevisionStation', 'Channel', 'Cable', 'Organisation', 'Broadcaster']}, {'indices': [[1076, 1081]], 'links': {'dbpedia': 'http://dbpedia.org/resource/Carrie_Mathison'}, 'score': 0.5159270167350769, 'text': 'Carrie', 'types': ['Agent', 'FictionalCharacter', 'Person', 'Character']}, {'indices': [[466, 473]], 'links': {'dbpedia': 'http://dbpedia.org/resource/Lockdown'}, 'score': 0.9477183222770691, 'text': 'lockdown', 'types': ['Book', 'Product', 'Definitions']}, {'indices': [[629, 633]], 'links': {'dbpedia': 'http://dbpedia.org/resource/Virus'}, 'score': 0.993719756603241, 'text': 'virus', 'types': ['Animal', 'Agent', 'Species']}, {'indices': [[217, 224], [818, 825]], 'links': {'dbpedia': 'http://dbpedia.org/resource/Hospital'}, 'score': 0.9999241232872009, 'text': 'hospital', 'types': ['University', 'PersonFunction', 'Institution']}, {'indices': [[11, 32]], 'links': {'dbpedia': 'http://dbpedia.org/resource/Prime_Minister_of_the_United_Kingdom'}, 'score': 0.9976106286048889, 'text': 'British Prime Minister', 'types': ['OfficeHolder', 'Head', 'Person']}, {'indices': [[210, 224]], 'links': {'dbpedia': 'http://dbpedia.org/resource/Royal_London_Hospital'}, 'score': 0.9988574981689453, 'text': 'London hospital', 'types': ['University', 'Hospital', 'Building', 'ArchitecturalStructure', 'Location', 'Place']}, {'indices': [], 'links': {'dbpedia': 'http://dbpedia.org/resource/United_Kingdom'}, 'score': 0.9997988939285278, 'text': 'U.K.', 'types': ['Country', 'State', 'Location', 'Place', 'PopulatedPlace']}, {'indices': [[788, 798], [1140, 1150]], 'links': {'dbpedia': 'http://dbpedia.org/resource/Coronavirus'}, 'score': 1.0, 'text': 'coronavirus', 'types': ['Eukaryote', 'Species']}, {'indices': [[210, 215]], 'links': None, 'score': None, 'text': 'London', 'types': ['Place']}, {'indices': [[444, 450]], 'links': None, 'score': None, 'text': 'Britain', 'types': ['Place']}, {'indices': [[684, 686]], 'links': None, 'score': None, 'text': 'U.K', 'types': ['Place']}, {'indices': [[40, 46], [167, 173], [344, 350], [509, 515], [723, 729], [928, 934], [1057, 1063]], 'links': None, 'score': None, 'text': 'Johnson', 'types': ['Person']}, {'indices': [[1076, 1089]], 'links': None, 'score': None, 'text': 'Carrie Symonds', 'types': ['Person']}, {'indices': [[119, 125]], 'links': None, 'score': None, 'text': '10 days', 'types': ['Organisation']}], 'title': [{'indices': [[0, 21]], 'links': {'dbpedia': 'http://dbpedia.org/resource/Prime_Minister_of_the_United_Kingdom'}, 'score': 0.9976551532745361, 'text': 'British Prime Minister', 'types': ['OfficeHolder', 'Head', 'Person']}, {'indices': [[23, 35]], 'links': {'dbpedia': 'http://dbpedia.org/resource/Boris_Johnson'}, 'score': 1.0, 'text': 'Boris Johnson', 'types': ['Agent', 'OfficeHolder', 'Person', 'Politician']}, {'indices': [[64, 81]], 'links': None, 'score': None, 'text': 'COVID-19 Diagnosis', 'types': ['Person']}]}, 'hashtags': ['#PrimeMinisterOfTheUnitedKingdom', '#BorisJohnson', '#Coronavirus', '#CNN', '#CNN', '#RoyalLondonHospital', '#Lockdown', '#DowningStreet', '#Virus', '#UnitedKingdom', '#Hospital', '#CarrieMathison', '#Twitter'], 'id': 74199025, 'keywords': ['Johnson', 'Hospitalized', 'Boris', 'Minister', 'Days', 'Prime', 'COVID-19', 'British', 'Diagnosis', 'British Prime Minister', 'Boris Johnson', 'coronavirus symptoms', 'symptoms', 'days', 'positive', 'press', 'tests', 'March', 'coronavirus', 'hospital', 'hands', 'time', 'virus', 'month', 'residence', 'leader', 'tweeted', 'CNN', 'Carrie', 'lockdown', 'London hospital', 'U.K.', 'Downing Street'], 'language': 'en', 'links': {'canonical': None, 'coverages': '/coverages?story_id=74199025', 'permalink': 'https://www.complex.com/life/2020/04/boris-johnson-hospitalized-coronavirus', 'related_stories': '/related_stories?story_id=74199025'}, 'media': [{'content_length': 520367, 'format': 'GIF', 'height': 675, 'type': 'image', 'url': 'https://images.complex.com/complex/images/c_fill,f_auto,g_center,w_1200/fl_lossy,q_70/jnnmrqnl64mxiljyc1l3/boris-johnson', 'width': 1200}, {'content_length': 1129577, 'format': 'GIF', 'height': 1080, 'type': 'image', 'url': 'https://images.complex.com/complex/images/c_limit,h_1080,w_1920/jnnmrqnl64mxiljyc1l3/boris-johnson', 'width': 1920}], 'paragraphs_count': 7, 'published_at': '2020-04-05 23:59:42+00:00', 'sentences_count': 12, 'sentiment': {'body': {'polarity': 'positive', 'score': 0.962804}, 'title': {'polarity': 'neutral', 'score': 0.86303}}, 'social_shares_count': {'facebook': [{'count': 97, 'fetched_at': '2020-04-06 18:25:41+00:00'}, {'count': 92, 'fetched_at': '2020-04-06 12:26:08+00:00'}, {'count': 68, 'fetched_at': '2020-04-06 06:26:23+00:00'}, {'count': 15, 'fetched_at': '2020-04-06 00:26:22+00:00'}], 'google_plus': [], 'linkedin': [], 'reddit': [{'count': 0, 'fetched_at': '2020-04-06 18:14:08+00:00'}, {'count': 0, 'fetched_at': '2020-04-06 09:17:25+00:00'}, {'count': 0, 'fetched_at': '2020-04-06 00:19:00+00:00'}]}, 'source': {'description': None, 'domain': 'complex.com', 'home_page_url': 'http://www.complex.com/', 'id': 1737, 'links_in_count': None, 'locations': [{'city': 'New York', 'country': 'US', 'state': 'New York'}], 'logo_url': 'https://images.complex.com/complex/image/upload/c_pad,g_west,h_40,w_125/v1464104389/COMPLEX_2015_RGB.png', 'name': 'Complex', 'rankings': {'alexa': [{'country': None, 'fetched_at': '2019-06-06 16:06:34+00:00', 'rank': 4137}, {'country': 'AO', 'fetched_at': '2019-06-06 16:06:34+00:00', 'rank': 6499}, {'country': 'IN', 'fetched_at': '2019-06-06 16:06:34+00:00', 'rank': 10579}, {'country': 'PH', 'fetched_at': '2019-06-06 16:06:34+00:00', 'rank': 2797}, {'country': 'ES', 'fetched_at': '2019-06-06 16:06:34+00:00', 'rank': 14605}, {'country': 'US', 'fetched_at': '2019-06-06 16:06:34+00:00', 'rank': 1177}, {'country': 'IE', 'fetched_at': '2019-06-06 16:06:34+00:00', 'rank': 2584}, {'country': 'AU', 'fetched_at': '2019-06-06 16:06:34+00:00', 'rank': 2148}, {'country': 'NO', 'fetched_at': '2019-06-06 16:06:34+00:00', 'rank': 1836}, {'country': 'NG', 'fetched_at': '2019-06-06 16:06:34+00:00', 'rank': 3365}, {'country': 'SE', 'fetched_at': '2019-06-06 16:06:34+00:00', 'rank': 3524}, {'country': 'GB', 'fetched_at': '2019-06-06 16:06:34+00:00', 'rank': 2423}, {'country': 'FR', 'fetched_at': '2019-06-06 16:06:34+00:00', 'rank': 7755}, {'country': 'BR', 'fetched_at': '2019-06-06 16:06:34+00:00', 'rank': 17651}, {'country': 'ZA', 'fetched_at': '2019-06-06 16:06:34+00:00', 'rank': 2683}, {'country': 'DK', 'fetched_at': '2019-06-06 16:06:34+00:00', 'rank': 1581}, {'country': 'NL', 'fetched_at': '2019-06-06 16:06:34+00:00', 'rank': 5918}, {'country': 'CA', 'fetched_at': '2019-06-06 16:06:34+00:00', 'rank': 1424}, {'country': 'JP', 'fetched_at': '2019-06-06 16:06:34+00:00', 'rank': 21410}, {'country': 'CN', 'fetched_at': '2019-06-06 16:06:34+00:00', 'rank': 20214}, {'country': 'DE', 'fetched_at': '2019-06-06 16:06:34+00:00', 'rank': 8293}]}, 'scopes': [{'city': None, 'country': None, 'level': 'international', 'state': None}], 'title': None}, 'summary': {'sentences': ['On Sunday, British Prime Minister Boris Johnson was hospitalized \"for tests\" because of \"persistent\" COVID-19 symptoms\\xa010 days\\xa0after he tested positive, CNN reports.', 'On March 26, Johnson revealed he had tested positive and that he had been dealing with symptoms since that date.', \"Roughly a month ago, right around the time the U.K. started dealing with an outbreak, Johnson garnered media coverage for saying he'd shook hands with coronavirus patients during a hospital visit.\", '\"I shook hands with everybody, you will be pleased to know, and I continue to shake hands,\" Johnson said during a press conference that took place on March 3.', \"On Saturday, Johnson's fiancée, Carrie Symonds, tweeted out that she'd spent a week in bed with coronavirus symptoms.\"]}, 'title': 'British Prime Minister Boris Johnson Hospitalized 10 Days After COVID-19 Diagnosis', 'words_count': 218}\n"
          ],
          "name": "stdout"
        }
      ]
    },
    {
      "cell_type": "code",
      "metadata": {
        "id": "uLFIsP9fUeZR",
        "colab_type": "code",
        "colab": {}
      },
      "source": [
        "import pandas as pd"
      ],
      "execution_count": 0,
      "outputs": []
    },
    {
      "cell_type": "code",
      "metadata": {
        "id": "VZLe2jQCd_l1",
        "colab_type": "code",
        "outputId": "9c046540-d5c3-430c-ff6d-cc9c71530269",
        "colab": {
          "base_uri": "https://localhost:8080/",
          "height": 1000
        }
      },
      "source": [
        "js"
      ],
      "execution_count": 8,
      "outputs": [
        {
          "output_type": "execute_result",
          "data": {
            "text/plain": [
              "{'author': {'avatar_url': None, 'id': 973106, 'name': 'Gavin Evans'},\n",
              " 'body': 'On Sunday, British Prime Minister Boris Johnson was hospitalized \"for tests\" because of \"persistent\" COVID-19 symptoms\\xa010 days\\xa0after he tested positive, CNN reports.\\xa0\\nJohnson reportedly went to the unspecified London hospital after his doctor advised him to do so. A press release from his office called the\\xa0move\\xa0\"precautionary.\"\\xa0\\nOn March 26, Johnson revealed he had tested positive and that he had been dealing with symptoms since that date. Britain had gone into lockdown two days earlier.\\nSince the 26th, Johnson has been quarantined at his Downing Street residence. He is the first known world leader to have contracted the virus.\\xa0\\nRoughly a month ago, right around the time the U.K. started dealing with an outbreak, Johnson garnered media coverage for saying he\\'d shook hands with coronavirus patients during a hospital visit. \\xa0\\n\"I shook hands with everybody, you will be pleased to know, and I continue to shake hands,\" Johnson said during a press conference that took place on March 3. His positive test was registered 23 days later.\\xa0\\nOn Saturday, Johnson\\'s fiancée, Carrie Symonds, tweeted out that she\\'d spent a week in bed with coronavirus symptoms. She had not officially been tested for the disease, but said she felt \"stronger\" and \"on the mend\" following the week of rest:',\n",
              " 'categories': [{'confident': True,\n",
              "   'id': 'IAB7-3',\n",
              "   'level': 2,\n",
              "   'links': {'_self': 'https://api.aylien.com/api/v1/classify/taxonomy/iab-qag/IAB7-3',\n",
              "    'parent': 'https://api.aylien.com/api/v1/classify/taxonomy/iab-qag/IAB7'},\n",
              "   'score': 0.11,\n",
              "   'taxonomy': 'iab-qag'},\n",
              "  {'confident': True,\n",
              "   'id': 'IAB7',\n",
              "   'level': 1,\n",
              "   'links': {'_self': 'https://api.aylien.com/api/v1/classify/taxonomy/iab-qag/IAB7',\n",
              "    'parent': None},\n",
              "   'score': 0.09,\n",
              "   'taxonomy': 'iab-qag'},\n",
              "  {'confident': True,\n",
              "   'id': '07003004',\n",
              "   'level': 3,\n",
              "   'links': {'_self': 'https://api.aylien.com/api/v1/classify/taxonomy/iptc-subjectcode/07003004',\n",
              "    'parent': 'https://api.aylien.com/api/v1/classify/taxonomy/iptc-subjectcode/07003000'},\n",
              "   'score': 0.13,\n",
              "   'taxonomy': 'iptc-subjectcode'}],\n",
              " 'characters_count': 1288,\n",
              " 'entities': {'body': [{'indices': [[34, 46]],\n",
              "    'links': {'dbpedia': 'http://dbpedia.org/resource/Boris_Johnson'},\n",
              "    'score': 1.0,\n",
              "    'text': 'Boris Johnson',\n",
              "    'types': ['Agent', 'OfficeHolder', 'Person', 'Politician']},\n",
              "   {'indices': [[1092, 1098]],\n",
              "    'links': {'dbpedia': 'http://dbpedia.org/resource/Twitter'},\n",
              "    'score': 0.9999861717224121,\n",
              "    'text': 'tweeted',\n",
              "    'types': ['Company',\n",
              "     'Agent',\n",
              "     'Organisation',\n",
              "     'Work',\n",
              "     'Product',\n",
              "     'Website',\n",
              "     'Service']},\n",
              "   {'indices': [[153, 155]],\n",
              "    'links': {'dbpedia': 'http://dbpedia.org/resource/CNN'},\n",
              "    'score': 0.9998425841331482,\n",
              "    'text': 'CNN',\n",
              "    'types': ['Agent',\n",
              "     'TelevisionStation',\n",
              "     'Channel',\n",
              "     'Cable',\n",
              "     'Organisation',\n",
              "     'Broadcaster']},\n",
              "   {'indices': [[1076, 1081]],\n",
              "    'links': {'dbpedia': 'http://dbpedia.org/resource/Carrie_Mathison'},\n",
              "    'score': 0.5159270167350769,\n",
              "    'text': 'Carrie',\n",
              "    'types': ['Agent', 'FictionalCharacter', 'Person', 'Character']},\n",
              "   {'indices': [[466, 473]],\n",
              "    'links': {'dbpedia': 'http://dbpedia.org/resource/Lockdown'},\n",
              "    'score': 0.9477183222770691,\n",
              "    'text': 'lockdown',\n",
              "    'types': ['Book', 'Product', 'Definitions']},\n",
              "   {'indices': [[629, 633]],\n",
              "    'links': {'dbpedia': 'http://dbpedia.org/resource/Virus'},\n",
              "    'score': 0.993719756603241,\n",
              "    'text': 'virus',\n",
              "    'types': ['Animal', 'Agent', 'Species']},\n",
              "   {'indices': [[217, 224], [818, 825]],\n",
              "    'links': {'dbpedia': 'http://dbpedia.org/resource/Hospital'},\n",
              "    'score': 0.9999241232872009,\n",
              "    'text': 'hospital',\n",
              "    'types': ['University', 'PersonFunction', 'Institution']},\n",
              "   {'indices': [[11, 32]],\n",
              "    'links': {'dbpedia': 'http://dbpedia.org/resource/Prime_Minister_of_the_United_Kingdom'},\n",
              "    'score': 0.9976106286048889,\n",
              "    'text': 'British Prime Minister',\n",
              "    'types': ['OfficeHolder', 'Head', 'Person']},\n",
              "   {'indices': [[210, 224]],\n",
              "    'links': {'dbpedia': 'http://dbpedia.org/resource/Royal_London_Hospital'},\n",
              "    'score': 0.9988574981689453,\n",
              "    'text': 'London hospital',\n",
              "    'types': ['University',\n",
              "     'Hospital',\n",
              "     'Building',\n",
              "     'ArchitecturalStructure',\n",
              "     'Location',\n",
              "     'Place']},\n",
              "   {'indices': [],\n",
              "    'links': {'dbpedia': 'http://dbpedia.org/resource/United_Kingdom'},\n",
              "    'score': 0.9997988939285278,\n",
              "    'text': 'U.K.',\n",
              "    'types': ['Country', 'State', 'Location', 'Place', 'PopulatedPlace']},\n",
              "   {'indices': [[788, 798], [1140, 1150]],\n",
              "    'links': {'dbpedia': 'http://dbpedia.org/resource/Coronavirus'},\n",
              "    'score': 1.0,\n",
              "    'text': 'coronavirus',\n",
              "    'types': ['Eukaryote', 'Species']},\n",
              "   {'indices': [[210, 215]],\n",
              "    'links': None,\n",
              "    'score': None,\n",
              "    'text': 'London',\n",
              "    'types': ['Place']},\n",
              "   {'indices': [[444, 450]],\n",
              "    'links': None,\n",
              "    'score': None,\n",
              "    'text': 'Britain',\n",
              "    'types': ['Place']},\n",
              "   {'indices': [[684, 686]],\n",
              "    'links': None,\n",
              "    'score': None,\n",
              "    'text': 'U.K',\n",
              "    'types': ['Place']},\n",
              "   {'indices': [[40, 46],\n",
              "     [167, 173],\n",
              "     [344, 350],\n",
              "     [509, 515],\n",
              "     [723, 729],\n",
              "     [928, 934],\n",
              "     [1057, 1063]],\n",
              "    'links': None,\n",
              "    'score': None,\n",
              "    'text': 'Johnson',\n",
              "    'types': ['Person']},\n",
              "   {'indices': [[1076, 1089]],\n",
              "    'links': None,\n",
              "    'score': None,\n",
              "    'text': 'Carrie Symonds',\n",
              "    'types': ['Person']},\n",
              "   {'indices': [[119, 125]],\n",
              "    'links': None,\n",
              "    'score': None,\n",
              "    'text': '10 days',\n",
              "    'types': ['Organisation']}],\n",
              "  'title': [{'indices': [[0, 21]],\n",
              "    'links': {'dbpedia': 'http://dbpedia.org/resource/Prime_Minister_of_the_United_Kingdom'},\n",
              "    'score': 0.9976551532745361,\n",
              "    'text': 'British Prime Minister',\n",
              "    'types': ['OfficeHolder', 'Head', 'Person']},\n",
              "   {'indices': [[23, 35]],\n",
              "    'links': {'dbpedia': 'http://dbpedia.org/resource/Boris_Johnson'},\n",
              "    'score': 1.0,\n",
              "    'text': 'Boris Johnson',\n",
              "    'types': ['Agent', 'OfficeHolder', 'Person', 'Politician']},\n",
              "   {'indices': [[64, 81]],\n",
              "    'links': None,\n",
              "    'score': None,\n",
              "    'text': 'COVID-19 Diagnosis',\n",
              "    'types': ['Person']}]},\n",
              " 'hashtags': ['#PrimeMinisterOfTheUnitedKingdom',\n",
              "  '#BorisJohnson',\n",
              "  '#Coronavirus',\n",
              "  '#CNN',\n",
              "  '#CNN',\n",
              "  '#RoyalLondonHospital',\n",
              "  '#Lockdown',\n",
              "  '#DowningStreet',\n",
              "  '#Virus',\n",
              "  '#UnitedKingdom',\n",
              "  '#Hospital',\n",
              "  '#CarrieMathison',\n",
              "  '#Twitter'],\n",
              " 'id': 74199025,\n",
              " 'keywords': ['Johnson',\n",
              "  'Hospitalized',\n",
              "  'Boris',\n",
              "  'Minister',\n",
              "  'Days',\n",
              "  'Prime',\n",
              "  'COVID-19',\n",
              "  'British',\n",
              "  'Diagnosis',\n",
              "  'British Prime Minister',\n",
              "  'Boris Johnson',\n",
              "  'coronavirus symptoms',\n",
              "  'symptoms',\n",
              "  'days',\n",
              "  'positive',\n",
              "  'press',\n",
              "  'tests',\n",
              "  'March',\n",
              "  'coronavirus',\n",
              "  'hospital',\n",
              "  'hands',\n",
              "  'time',\n",
              "  'virus',\n",
              "  'month',\n",
              "  'residence',\n",
              "  'leader',\n",
              "  'tweeted',\n",
              "  'CNN',\n",
              "  'Carrie',\n",
              "  'lockdown',\n",
              "  'London hospital',\n",
              "  'U.K.',\n",
              "  'Downing Street'],\n",
              " 'language': 'en',\n",
              " 'links': {'canonical': None,\n",
              "  'coverages': '/coverages?story_id=74199025',\n",
              "  'permalink': 'https://www.complex.com/life/2020/04/boris-johnson-hospitalized-coronavirus',\n",
              "  'related_stories': '/related_stories?story_id=74199025'},\n",
              " 'media': [{'content_length': 520367,\n",
              "   'format': 'GIF',\n",
              "   'height': 675,\n",
              "   'type': 'image',\n",
              "   'url': 'https://images.complex.com/complex/images/c_fill,f_auto,g_center,w_1200/fl_lossy,q_70/jnnmrqnl64mxiljyc1l3/boris-johnson',\n",
              "   'width': 1200},\n",
              "  {'content_length': 1129577,\n",
              "   'format': 'GIF',\n",
              "   'height': 1080,\n",
              "   'type': 'image',\n",
              "   'url': 'https://images.complex.com/complex/images/c_limit,h_1080,w_1920/jnnmrqnl64mxiljyc1l3/boris-johnson',\n",
              "   'width': 1920}],\n",
              " 'paragraphs_count': 7,\n",
              " 'published_at': '2020-04-05 23:59:42+00:00',\n",
              " 'sentences_count': 12,\n",
              " 'sentiment': {'body': {'polarity': 'positive', 'score': 0.962804},\n",
              "  'title': {'polarity': 'neutral', 'score': 0.86303}},\n",
              " 'social_shares_count': {'facebook': [{'count': 97,\n",
              "    'fetched_at': '2020-04-06 18:25:41+00:00'},\n",
              "   {'count': 92, 'fetched_at': '2020-04-06 12:26:08+00:00'},\n",
              "   {'count': 68, 'fetched_at': '2020-04-06 06:26:23+00:00'},\n",
              "   {'count': 15, 'fetched_at': '2020-04-06 00:26:22+00:00'}],\n",
              "  'google_plus': [],\n",
              "  'linkedin': [],\n",
              "  'reddit': [{'count': 0, 'fetched_at': '2020-04-06 18:14:08+00:00'},\n",
              "   {'count': 0, 'fetched_at': '2020-04-06 09:17:25+00:00'},\n",
              "   {'count': 0, 'fetched_at': '2020-04-06 00:19:00+00:00'}]},\n",
              " 'source': {'description': None,\n",
              "  'domain': 'complex.com',\n",
              "  'home_page_url': 'http://www.complex.com/',\n",
              "  'id': 1737,\n",
              "  'links_in_count': None,\n",
              "  'locations': [{'city': 'New York', 'country': 'US', 'state': 'New York'}],\n",
              "  'logo_url': 'https://images.complex.com/complex/image/upload/c_pad,g_west,h_40,w_125/v1464104389/COMPLEX_2015_RGB.png',\n",
              "  'name': 'Complex',\n",
              "  'rankings': {'alexa': [{'country': None,\n",
              "     'fetched_at': '2019-06-06 16:06:34+00:00',\n",
              "     'rank': 4137},\n",
              "    {'country': 'AO', 'fetched_at': '2019-06-06 16:06:34+00:00', 'rank': 6499},\n",
              "    {'country': 'IN',\n",
              "     'fetched_at': '2019-06-06 16:06:34+00:00',\n",
              "     'rank': 10579},\n",
              "    {'country': 'PH', 'fetched_at': '2019-06-06 16:06:34+00:00', 'rank': 2797},\n",
              "    {'country': 'ES',\n",
              "     'fetched_at': '2019-06-06 16:06:34+00:00',\n",
              "     'rank': 14605},\n",
              "    {'country': 'US', 'fetched_at': '2019-06-06 16:06:34+00:00', 'rank': 1177},\n",
              "    {'country': 'IE', 'fetched_at': '2019-06-06 16:06:34+00:00', 'rank': 2584},\n",
              "    {'country': 'AU', 'fetched_at': '2019-06-06 16:06:34+00:00', 'rank': 2148},\n",
              "    {'country': 'NO', 'fetched_at': '2019-06-06 16:06:34+00:00', 'rank': 1836},\n",
              "    {'country': 'NG', 'fetched_at': '2019-06-06 16:06:34+00:00', 'rank': 3365},\n",
              "    {'country': 'SE', 'fetched_at': '2019-06-06 16:06:34+00:00', 'rank': 3524},\n",
              "    {'country': 'GB', 'fetched_at': '2019-06-06 16:06:34+00:00', 'rank': 2423},\n",
              "    {'country': 'FR', 'fetched_at': '2019-06-06 16:06:34+00:00', 'rank': 7755},\n",
              "    {'country': 'BR',\n",
              "     'fetched_at': '2019-06-06 16:06:34+00:00',\n",
              "     'rank': 17651},\n",
              "    {'country': 'ZA', 'fetched_at': '2019-06-06 16:06:34+00:00', 'rank': 2683},\n",
              "    {'country': 'DK', 'fetched_at': '2019-06-06 16:06:34+00:00', 'rank': 1581},\n",
              "    {'country': 'NL', 'fetched_at': '2019-06-06 16:06:34+00:00', 'rank': 5918},\n",
              "    {'country': 'CA', 'fetched_at': '2019-06-06 16:06:34+00:00', 'rank': 1424},\n",
              "    {'country': 'JP',\n",
              "     'fetched_at': '2019-06-06 16:06:34+00:00',\n",
              "     'rank': 21410},\n",
              "    {'country': 'CN',\n",
              "     'fetched_at': '2019-06-06 16:06:34+00:00',\n",
              "     'rank': 20214},\n",
              "    {'country': 'DE',\n",
              "     'fetched_at': '2019-06-06 16:06:34+00:00',\n",
              "     'rank': 8293}]},\n",
              "  'scopes': [{'city': None,\n",
              "    'country': None,\n",
              "    'level': 'international',\n",
              "    'state': None}],\n",
              "  'title': None},\n",
              " 'summary': {'sentences': ['On Sunday, British Prime Minister Boris Johnson was hospitalized \"for tests\" because of \"persistent\" COVID-19 symptoms\\xa010 days\\xa0after he tested positive, CNN reports.',\n",
              "   'On March 26, Johnson revealed he had tested positive and that he had been dealing with symptoms since that date.',\n",
              "   \"Roughly a month ago, right around the time the U.K. started dealing with an outbreak, Johnson garnered media coverage for saying he'd shook hands with coronavirus patients during a hospital visit.\",\n",
              "   '\"I shook hands with everybody, you will be pleased to know, and I continue to shake hands,\" Johnson said during a press conference that took place on March 3.',\n",
              "   \"On Saturday, Johnson's fiancée, Carrie Symonds, tweeted out that she'd spent a week in bed with coronavirus symptoms.\"]},\n",
              " 'title': 'British Prime Minister Boris Johnson Hospitalized 10 Days After COVID-19 Diagnosis',\n",
              " 'words_count': 218}"
            ]
          },
          "metadata": {
            "tags": []
          },
          "execution_count": 8
        }
      ]
    },
    {
      "cell_type": "code",
      "metadata": {
        "id": "d_HmYJqReGQW",
        "colab_type": "code",
        "outputId": "93c64614-b9db-49e4-b7a8-12ccac26e7a6",
        "colab": {
          "base_uri": "https://localhost:8080/",
          "height": 34
        }
      },
      "source": [
        "js['author']\n"
      ],
      "execution_count": 9,
      "outputs": [
        {
          "output_type": "execute_result",
          "data": {
            "text/plain": [
              "{'avatar_url': None, 'id': 973106, 'name': 'Gavin Evans'}"
            ]
          },
          "metadata": {
            "tags": []
          },
          "execution_count": 9
        }
      ]
    },
    {
      "cell_type": "code",
      "metadata": {
        "id": "bKWc8ODLjWyn",
        "colab_type": "code",
        "outputId": "37cc7fdf-dade-4fef-ba9b-86582ab33d16",
        "colab": {
          "base_uri": "https://localhost:8080/",
          "height": 34
        }
      },
      "source": [
        "author_id=js['author']['id']\n",
        "author_id"
      ],
      "execution_count": 10,
      "outputs": [
        {
          "output_type": "execute_result",
          "data": {
            "text/plain": [
              "973106"
            ]
          },
          "metadata": {
            "tags": []
          },
          "execution_count": 10
        }
      ]
    },
    {
      "cell_type": "code",
      "metadata": {
        "id": "mXDB41K4jitS",
        "colab_type": "code",
        "outputId": "57065e76-88f2-48c8-e2f5-868bfce1bb67",
        "colab": {
          "base_uri": "https://localhost:8080/",
          "height": 34
        }
      },
      "source": [
        "author_name=js['author']['name']\n",
        "author_name"
      ],
      "execution_count": 11,
      "outputs": [
        {
          "output_type": "execute_result",
          "data": {
            "text/plain": [
              "'Gavin Evans'"
            ]
          },
          "metadata": {
            "tags": []
          },
          "execution_count": 11
        }
      ]
    },
    {
      "cell_type": "code",
      "metadata": {
        "id": "iwQvqsvBjrX5",
        "colab_type": "code",
        "outputId": "1873b7d5-6826-40ac-b581-84892aaf84fc",
        "colab": {
          "base_uri": "https://localhost:8080/",
          "height": 54
        }
      },
      "source": [
        "news_text=js['body']\n",
        "news_text"
      ],
      "execution_count": 12,
      "outputs": [
        {
          "output_type": "execute_result",
          "data": {
            "text/plain": [
              "'On Sunday, British Prime Minister Boris Johnson was hospitalized \"for tests\" because of \"persistent\" COVID-19 symptoms\\xa010 days\\xa0after he tested positive, CNN reports.\\xa0\\nJohnson reportedly went to the unspecified London hospital after his doctor advised him to do so. A press release from his office called the\\xa0move\\xa0\"precautionary.\"\\xa0\\nOn March 26, Johnson revealed he had tested positive and that he had been dealing with symptoms since that date. Britain had gone into lockdown two days earlier.\\nSince the 26th, Johnson has been quarantined at his Downing Street residence. He is the first known world leader to have contracted the virus.\\xa0\\nRoughly a month ago, right around the time the U.K. started dealing with an outbreak, Johnson garnered media coverage for saying he\\'d shook hands with coronavirus patients during a hospital visit. \\xa0\\n\"I shook hands with everybody, you will be pleased to know, and I continue to shake hands,\" Johnson said during a press conference that took place on March 3. His positive test was registered 23 days later.\\xa0\\nOn Saturday, Johnson\\'s fiancée, Carrie Symonds, tweeted out that she\\'d spent a week in bed with coronavirus symptoms. She had not officially been tested for the disease, but said she felt \"stronger\" and \"on the mend\" following the week of rest:'"
            ]
          },
          "metadata": {
            "tags": []
          },
          "execution_count": 12
        }
      ]
    },
    {
      "cell_type": "code",
      "metadata": {
        "id": "K-JzyKpQjwP4",
        "colab_type": "code",
        "outputId": "85917149-44bb-4166-d3eb-8eb402cfab06",
        "colab": {
          "base_uri": "https://localhost:8080/",
          "height": 243
        }
      },
      "source": [
        "hashtags=js['hashtags']\n",
        "hashtags"
      ],
      "execution_count": 13,
      "outputs": [
        {
          "output_type": "execute_result",
          "data": {
            "text/plain": [
              "['#PrimeMinisterOfTheUnitedKingdom',\n",
              " '#BorisJohnson',\n",
              " '#Coronavirus',\n",
              " '#CNN',\n",
              " '#CNN',\n",
              " '#RoyalLondonHospital',\n",
              " '#Lockdown',\n",
              " '#DowningStreet',\n",
              " '#Virus',\n",
              " '#UnitedKingdom',\n",
              " '#Hospital',\n",
              " '#CarrieMathison',\n",
              " '#Twitter']"
            ]
          },
          "metadata": {
            "tags": []
          },
          "execution_count": 13
        }
      ]
    },
    {
      "cell_type": "code",
      "metadata": {
        "id": "ppfH3s26jwTE",
        "colab_type": "code",
        "outputId": "563615ff-9667-4f46-e730-ef2c2e6d7671",
        "colab": {
          "base_uri": "https://localhost:8080/",
          "height": 34
        }
      },
      "source": [
        "published_at=js['published_at']\n",
        "published_at"
      ],
      "execution_count": 14,
      "outputs": [
        {
          "output_type": "execute_result",
          "data": {
            "text/plain": [
              "'2020-04-05 23:59:42+00:00'"
            ]
          },
          "metadata": {
            "tags": []
          },
          "execution_count": 14
        }
      ]
    },
    {
      "cell_type": "code",
      "metadata": {
        "id": "I_LgWX3ljwmj",
        "colab_type": "code",
        "outputId": "730a61f4-6161-49e4-ecf5-b152782506ab",
        "colab": {
          "base_uri": "https://localhost:8080/",
          "height": 34
        }
      },
      "source": [
        "polarity_positive=js['sentiment']['body']['polarity']\n",
        "polarity_positive"
      ],
      "execution_count": 15,
      "outputs": [
        {
          "output_type": "execute_result",
          "data": {
            "text/plain": [
              "'positive'"
            ]
          },
          "metadata": {
            "tags": []
          },
          "execution_count": 15
        }
      ]
    },
    {
      "cell_type": "code",
      "metadata": {
        "id": "qUvT5cq7o7YG",
        "colab_type": "code",
        "outputId": "52794e9a-ecb9-4fcf-f7c1-a314dab4a947",
        "colab": {
          "base_uri": "https://localhost:8080/",
          "height": 34
        }
      },
      "source": [
        "polarity_positive_score=js['sentiment']['body']['score']\n",
        "polarity_positive_score"
      ],
      "execution_count": 16,
      "outputs": [
        {
          "output_type": "execute_result",
          "data": {
            "text/plain": [
              "0.962804"
            ]
          },
          "metadata": {
            "tags": []
          },
          "execution_count": 16
        }
      ]
    },
    {
      "cell_type": "code",
      "metadata": {
        "id": "sBlElJwVqrKk",
        "colab_type": "code",
        "outputId": "8f6422d9-424e-4d99-d4af-1babe4177c8c",
        "colab": {
          "base_uri": "https://localhost:8080/",
          "height": 124
        }
      },
      "source": [
        "summary=js['summary']['sentences']\n",
        "summary"
      ],
      "execution_count": 17,
      "outputs": [
        {
          "output_type": "execute_result",
          "data": {
            "text/plain": [
              "['On Sunday, British Prime Minister Boris Johnson was hospitalized \"for tests\" because of \"persistent\" COVID-19 symptoms\\xa010 days\\xa0after he tested positive, CNN reports.',\n",
              " 'On March 26, Johnson revealed he had tested positive and that he had been dealing with symptoms since that date.',\n",
              " \"Roughly a month ago, right around the time the U.K. started dealing with an outbreak, Johnson garnered media coverage for saying he'd shook hands with coronavirus patients during a hospital visit.\",\n",
              " '\"I shook hands with everybody, you will be pleased to know, and I continue to shake hands,\" Johnson said during a press conference that took place on March 3.',\n",
              " \"On Saturday, Johnson's fiancée, Carrie Symonds, tweeted out that she'd spent a week in bed with coronavirus symptoms.\"]"
            ]
          },
          "metadata": {
            "tags": []
          },
          "execution_count": 17
        }
      ]
    },
    {
      "cell_type": "code",
      "metadata": {
        "id": "2iCcV9ifq_CR",
        "colab_type": "code",
        "outputId": "2cce135a-b057-4a04-ca05-8a341ba52fcc",
        "colab": {
          "base_uri": "https://localhost:8080/",
          "height": 34
        }
      },
      "source": [
        "title=js['title']\n",
        "title"
      ],
      "execution_count": 18,
      "outputs": [
        {
          "output_type": "execute_result",
          "data": {
            "text/plain": [
              "'British Prime Minister Boris Johnson Hospitalized 10 Days After COVID-19 Diagnosis'"
            ]
          },
          "metadata": {
            "tags": []
          },
          "execution_count": 18
        }
      ]
    },
    {
      "cell_type": "code",
      "metadata": {
        "id": "uGur7B4wsTOm",
        "colab_type": "code",
        "outputId": "990abf05-598e-40f3-8191-6ac4329f0bdc",
        "colab": {
          "base_uri": "https://localhost:8080/",
          "height": 86
        }
      },
      "source": [
        "social_shares_count=js['social_shares_count']['facebook']\n",
        "social_shares_count\n",
        "\n"
      ],
      "execution_count": 19,
      "outputs": [
        {
          "output_type": "execute_result",
          "data": {
            "text/plain": [
              "[{'count': 97, 'fetched_at': '2020-04-06 18:25:41+00:00'},\n",
              " {'count': 92, 'fetched_at': '2020-04-06 12:26:08+00:00'},\n",
              " {'count': 68, 'fetched_at': '2020-04-06 06:26:23+00:00'},\n",
              " {'count': 15, 'fetched_at': '2020-04-06 00:26:22+00:00'}]"
            ]
          },
          "metadata": {
            "tags": []
          },
          "execution_count": 19
        }
      ]
    },
    {
      "cell_type": "code",
      "metadata": {
        "id": "X5A8B7X3rLng",
        "colab_type": "code",
        "outputId": "239cf00d-6f6d-4366-8c10-7e67f2960267",
        "colab": {
          "base_uri": "https://localhost:8080/",
          "height": 34
        }
      },
      "source": [
        "social_shares_count=js['social_shares_count']['facebook'][0]\n",
        "social_shares_count"
      ],
      "execution_count": 20,
      "outputs": [
        {
          "output_type": "execute_result",
          "data": {
            "text/plain": [
              "{'count': 97, 'fetched_at': '2020-04-06 18:25:41+00:00'}"
            ]
          },
          "metadata": {
            "tags": []
          },
          "execution_count": 20
        }
      ]
    },
    {
      "cell_type": "code",
      "metadata": {
        "id": "Vg09jz1tsCmT",
        "colab_type": "code",
        "outputId": "053ee638-a306-45c2-cb03-fcbc01477098",
        "colab": {
          "base_uri": "https://localhost:8080/",
          "height": 1000
        }
      },
      "source": [
        "js"
      ],
      "execution_count": 21,
      "outputs": [
        {
          "output_type": "execute_result",
          "data": {
            "text/plain": [
              "{'author': {'avatar_url': None, 'id': 973106, 'name': 'Gavin Evans'},\n",
              " 'body': 'On Sunday, British Prime Minister Boris Johnson was hospitalized \"for tests\" because of \"persistent\" COVID-19 symptoms\\xa010 days\\xa0after he tested positive, CNN reports.\\xa0\\nJohnson reportedly went to the unspecified London hospital after his doctor advised him to do so. A press release from his office called the\\xa0move\\xa0\"precautionary.\"\\xa0\\nOn March 26, Johnson revealed he had tested positive and that he had been dealing with symptoms since that date. Britain had gone into lockdown two days earlier.\\nSince the 26th, Johnson has been quarantined at his Downing Street residence. He is the first known world leader to have contracted the virus.\\xa0\\nRoughly a month ago, right around the time the U.K. started dealing with an outbreak, Johnson garnered media coverage for saying he\\'d shook hands with coronavirus patients during a hospital visit. \\xa0\\n\"I shook hands with everybody, you will be pleased to know, and I continue to shake hands,\" Johnson said during a press conference that took place on March 3. His positive test was registered 23 days later.\\xa0\\nOn Saturday, Johnson\\'s fiancée, Carrie Symonds, tweeted out that she\\'d spent a week in bed with coronavirus symptoms. She had not officially been tested for the disease, but said she felt \"stronger\" and \"on the mend\" following the week of rest:',\n",
              " 'categories': [{'confident': True,\n",
              "   'id': 'IAB7-3',\n",
              "   'level': 2,\n",
              "   'links': {'_self': 'https://api.aylien.com/api/v1/classify/taxonomy/iab-qag/IAB7-3',\n",
              "    'parent': 'https://api.aylien.com/api/v1/classify/taxonomy/iab-qag/IAB7'},\n",
              "   'score': 0.11,\n",
              "   'taxonomy': 'iab-qag'},\n",
              "  {'confident': True,\n",
              "   'id': 'IAB7',\n",
              "   'level': 1,\n",
              "   'links': {'_self': 'https://api.aylien.com/api/v1/classify/taxonomy/iab-qag/IAB7',\n",
              "    'parent': None},\n",
              "   'score': 0.09,\n",
              "   'taxonomy': 'iab-qag'},\n",
              "  {'confident': True,\n",
              "   'id': '07003004',\n",
              "   'level': 3,\n",
              "   'links': {'_self': 'https://api.aylien.com/api/v1/classify/taxonomy/iptc-subjectcode/07003004',\n",
              "    'parent': 'https://api.aylien.com/api/v1/classify/taxonomy/iptc-subjectcode/07003000'},\n",
              "   'score': 0.13,\n",
              "   'taxonomy': 'iptc-subjectcode'}],\n",
              " 'characters_count': 1288,\n",
              " 'entities': {'body': [{'indices': [[34, 46]],\n",
              "    'links': {'dbpedia': 'http://dbpedia.org/resource/Boris_Johnson'},\n",
              "    'score': 1.0,\n",
              "    'text': 'Boris Johnson',\n",
              "    'types': ['Agent', 'OfficeHolder', 'Person', 'Politician']},\n",
              "   {'indices': [[1092, 1098]],\n",
              "    'links': {'dbpedia': 'http://dbpedia.org/resource/Twitter'},\n",
              "    'score': 0.9999861717224121,\n",
              "    'text': 'tweeted',\n",
              "    'types': ['Company',\n",
              "     'Agent',\n",
              "     'Organisation',\n",
              "     'Work',\n",
              "     'Product',\n",
              "     'Website',\n",
              "     'Service']},\n",
              "   {'indices': [[153, 155]],\n",
              "    'links': {'dbpedia': 'http://dbpedia.org/resource/CNN'},\n",
              "    'score': 0.9998425841331482,\n",
              "    'text': 'CNN',\n",
              "    'types': ['Agent',\n",
              "     'TelevisionStation',\n",
              "     'Channel',\n",
              "     'Cable',\n",
              "     'Organisation',\n",
              "     'Broadcaster']},\n",
              "   {'indices': [[1076, 1081]],\n",
              "    'links': {'dbpedia': 'http://dbpedia.org/resource/Carrie_Mathison'},\n",
              "    'score': 0.5159270167350769,\n",
              "    'text': 'Carrie',\n",
              "    'types': ['Agent', 'FictionalCharacter', 'Person', 'Character']},\n",
              "   {'indices': [[466, 473]],\n",
              "    'links': {'dbpedia': 'http://dbpedia.org/resource/Lockdown'},\n",
              "    'score': 0.9477183222770691,\n",
              "    'text': 'lockdown',\n",
              "    'types': ['Book', 'Product', 'Definitions']},\n",
              "   {'indices': [[629, 633]],\n",
              "    'links': {'dbpedia': 'http://dbpedia.org/resource/Virus'},\n",
              "    'score': 0.993719756603241,\n",
              "    'text': 'virus',\n",
              "    'types': ['Animal', 'Agent', 'Species']},\n",
              "   {'indices': [[217, 224], [818, 825]],\n",
              "    'links': {'dbpedia': 'http://dbpedia.org/resource/Hospital'},\n",
              "    'score': 0.9999241232872009,\n",
              "    'text': 'hospital',\n",
              "    'types': ['University', 'PersonFunction', 'Institution']},\n",
              "   {'indices': [[11, 32]],\n",
              "    'links': {'dbpedia': 'http://dbpedia.org/resource/Prime_Minister_of_the_United_Kingdom'},\n",
              "    'score': 0.9976106286048889,\n",
              "    'text': 'British Prime Minister',\n",
              "    'types': ['OfficeHolder', 'Head', 'Person']},\n",
              "   {'indices': [[210, 224]],\n",
              "    'links': {'dbpedia': 'http://dbpedia.org/resource/Royal_London_Hospital'},\n",
              "    'score': 0.9988574981689453,\n",
              "    'text': 'London hospital',\n",
              "    'types': ['University',\n",
              "     'Hospital',\n",
              "     'Building',\n",
              "     'ArchitecturalStructure',\n",
              "     'Location',\n",
              "     'Place']},\n",
              "   {'indices': [],\n",
              "    'links': {'dbpedia': 'http://dbpedia.org/resource/United_Kingdom'},\n",
              "    'score': 0.9997988939285278,\n",
              "    'text': 'U.K.',\n",
              "    'types': ['Country', 'State', 'Location', 'Place', 'PopulatedPlace']},\n",
              "   {'indices': [[788, 798], [1140, 1150]],\n",
              "    'links': {'dbpedia': 'http://dbpedia.org/resource/Coronavirus'},\n",
              "    'score': 1.0,\n",
              "    'text': 'coronavirus',\n",
              "    'types': ['Eukaryote', 'Species']},\n",
              "   {'indices': [[210, 215]],\n",
              "    'links': None,\n",
              "    'score': None,\n",
              "    'text': 'London',\n",
              "    'types': ['Place']},\n",
              "   {'indices': [[444, 450]],\n",
              "    'links': None,\n",
              "    'score': None,\n",
              "    'text': 'Britain',\n",
              "    'types': ['Place']},\n",
              "   {'indices': [[684, 686]],\n",
              "    'links': None,\n",
              "    'score': None,\n",
              "    'text': 'U.K',\n",
              "    'types': ['Place']},\n",
              "   {'indices': [[40, 46],\n",
              "     [167, 173],\n",
              "     [344, 350],\n",
              "     [509, 515],\n",
              "     [723, 729],\n",
              "     [928, 934],\n",
              "     [1057, 1063]],\n",
              "    'links': None,\n",
              "    'score': None,\n",
              "    'text': 'Johnson',\n",
              "    'types': ['Person']},\n",
              "   {'indices': [[1076, 1089]],\n",
              "    'links': None,\n",
              "    'score': None,\n",
              "    'text': 'Carrie Symonds',\n",
              "    'types': ['Person']},\n",
              "   {'indices': [[119, 125]],\n",
              "    'links': None,\n",
              "    'score': None,\n",
              "    'text': '10 days',\n",
              "    'types': ['Organisation']}],\n",
              "  'title': [{'indices': [[0, 21]],\n",
              "    'links': {'dbpedia': 'http://dbpedia.org/resource/Prime_Minister_of_the_United_Kingdom'},\n",
              "    'score': 0.9976551532745361,\n",
              "    'text': 'British Prime Minister',\n",
              "    'types': ['OfficeHolder', 'Head', 'Person']},\n",
              "   {'indices': [[23, 35]],\n",
              "    'links': {'dbpedia': 'http://dbpedia.org/resource/Boris_Johnson'},\n",
              "    'score': 1.0,\n",
              "    'text': 'Boris Johnson',\n",
              "    'types': ['Agent', 'OfficeHolder', 'Person', 'Politician']},\n",
              "   {'indices': [[64, 81]],\n",
              "    'links': None,\n",
              "    'score': None,\n",
              "    'text': 'COVID-19 Diagnosis',\n",
              "    'types': ['Person']}]},\n",
              " 'hashtags': ['#PrimeMinisterOfTheUnitedKingdom',\n",
              "  '#BorisJohnson',\n",
              "  '#Coronavirus',\n",
              "  '#CNN',\n",
              "  '#CNN',\n",
              "  '#RoyalLondonHospital',\n",
              "  '#Lockdown',\n",
              "  '#DowningStreet',\n",
              "  '#Virus',\n",
              "  '#UnitedKingdom',\n",
              "  '#Hospital',\n",
              "  '#CarrieMathison',\n",
              "  '#Twitter'],\n",
              " 'id': 74199025,\n",
              " 'keywords': ['Johnson',\n",
              "  'Hospitalized',\n",
              "  'Boris',\n",
              "  'Minister',\n",
              "  'Days',\n",
              "  'Prime',\n",
              "  'COVID-19',\n",
              "  'British',\n",
              "  'Diagnosis',\n",
              "  'British Prime Minister',\n",
              "  'Boris Johnson',\n",
              "  'coronavirus symptoms',\n",
              "  'symptoms',\n",
              "  'days',\n",
              "  'positive',\n",
              "  'press',\n",
              "  'tests',\n",
              "  'March',\n",
              "  'coronavirus',\n",
              "  'hospital',\n",
              "  'hands',\n",
              "  'time',\n",
              "  'virus',\n",
              "  'month',\n",
              "  'residence',\n",
              "  'leader',\n",
              "  'tweeted',\n",
              "  'CNN',\n",
              "  'Carrie',\n",
              "  'lockdown',\n",
              "  'London hospital',\n",
              "  'U.K.',\n",
              "  'Downing Street'],\n",
              " 'language': 'en',\n",
              " 'links': {'canonical': None,\n",
              "  'coverages': '/coverages?story_id=74199025',\n",
              "  'permalink': 'https://www.complex.com/life/2020/04/boris-johnson-hospitalized-coronavirus',\n",
              "  'related_stories': '/related_stories?story_id=74199025'},\n",
              " 'media': [{'content_length': 520367,\n",
              "   'format': 'GIF',\n",
              "   'height': 675,\n",
              "   'type': 'image',\n",
              "   'url': 'https://images.complex.com/complex/images/c_fill,f_auto,g_center,w_1200/fl_lossy,q_70/jnnmrqnl64mxiljyc1l3/boris-johnson',\n",
              "   'width': 1200},\n",
              "  {'content_length': 1129577,\n",
              "   'format': 'GIF',\n",
              "   'height': 1080,\n",
              "   'type': 'image',\n",
              "   'url': 'https://images.complex.com/complex/images/c_limit,h_1080,w_1920/jnnmrqnl64mxiljyc1l3/boris-johnson',\n",
              "   'width': 1920}],\n",
              " 'paragraphs_count': 7,\n",
              " 'published_at': '2020-04-05 23:59:42+00:00',\n",
              " 'sentences_count': 12,\n",
              " 'sentiment': {'body': {'polarity': 'positive', 'score': 0.962804},\n",
              "  'title': {'polarity': 'neutral', 'score': 0.86303}},\n",
              " 'social_shares_count': {'facebook': [{'count': 97,\n",
              "    'fetched_at': '2020-04-06 18:25:41+00:00'},\n",
              "   {'count': 92, 'fetched_at': '2020-04-06 12:26:08+00:00'},\n",
              "   {'count': 68, 'fetched_at': '2020-04-06 06:26:23+00:00'},\n",
              "   {'count': 15, 'fetched_at': '2020-04-06 00:26:22+00:00'}],\n",
              "  'google_plus': [],\n",
              "  'linkedin': [],\n",
              "  'reddit': [{'count': 0, 'fetched_at': '2020-04-06 18:14:08+00:00'},\n",
              "   {'count': 0, 'fetched_at': '2020-04-06 09:17:25+00:00'},\n",
              "   {'count': 0, 'fetched_at': '2020-04-06 00:19:00+00:00'}]},\n",
              " 'source': {'description': None,\n",
              "  'domain': 'complex.com',\n",
              "  'home_page_url': 'http://www.complex.com/',\n",
              "  'id': 1737,\n",
              "  'links_in_count': None,\n",
              "  'locations': [{'city': 'New York', 'country': 'US', 'state': 'New York'}],\n",
              "  'logo_url': 'https://images.complex.com/complex/image/upload/c_pad,g_west,h_40,w_125/v1464104389/COMPLEX_2015_RGB.png',\n",
              "  'name': 'Complex',\n",
              "  'rankings': {'alexa': [{'country': None,\n",
              "     'fetched_at': '2019-06-06 16:06:34+00:00',\n",
              "     'rank': 4137},\n",
              "    {'country': 'AO', 'fetched_at': '2019-06-06 16:06:34+00:00', 'rank': 6499},\n",
              "    {'country': 'IN',\n",
              "     'fetched_at': '2019-06-06 16:06:34+00:00',\n",
              "     'rank': 10579},\n",
              "    {'country': 'PH', 'fetched_at': '2019-06-06 16:06:34+00:00', 'rank': 2797},\n",
              "    {'country': 'ES',\n",
              "     'fetched_at': '2019-06-06 16:06:34+00:00',\n",
              "     'rank': 14605},\n",
              "    {'country': 'US', 'fetched_at': '2019-06-06 16:06:34+00:00', 'rank': 1177},\n",
              "    {'country': 'IE', 'fetched_at': '2019-06-06 16:06:34+00:00', 'rank': 2584},\n",
              "    {'country': 'AU', 'fetched_at': '2019-06-06 16:06:34+00:00', 'rank': 2148},\n",
              "    {'country': 'NO', 'fetched_at': '2019-06-06 16:06:34+00:00', 'rank': 1836},\n",
              "    {'country': 'NG', 'fetched_at': '2019-06-06 16:06:34+00:00', 'rank': 3365},\n",
              "    {'country': 'SE', 'fetched_at': '2019-06-06 16:06:34+00:00', 'rank': 3524},\n",
              "    {'country': 'GB', 'fetched_at': '2019-06-06 16:06:34+00:00', 'rank': 2423},\n",
              "    {'country': 'FR', 'fetched_at': '2019-06-06 16:06:34+00:00', 'rank': 7755},\n",
              "    {'country': 'BR',\n",
              "     'fetched_at': '2019-06-06 16:06:34+00:00',\n",
              "     'rank': 17651},\n",
              "    {'country': 'ZA', 'fetched_at': '2019-06-06 16:06:34+00:00', 'rank': 2683},\n",
              "    {'country': 'DK', 'fetched_at': '2019-06-06 16:06:34+00:00', 'rank': 1581},\n",
              "    {'country': 'NL', 'fetched_at': '2019-06-06 16:06:34+00:00', 'rank': 5918},\n",
              "    {'country': 'CA', 'fetched_at': '2019-06-06 16:06:34+00:00', 'rank': 1424},\n",
              "    {'country': 'JP',\n",
              "     'fetched_at': '2019-06-06 16:06:34+00:00',\n",
              "     'rank': 21410},\n",
              "    {'country': 'CN',\n",
              "     'fetched_at': '2019-06-06 16:06:34+00:00',\n",
              "     'rank': 20214},\n",
              "    {'country': 'DE',\n",
              "     'fetched_at': '2019-06-06 16:06:34+00:00',\n",
              "     'rank': 8293}]},\n",
              "  'scopes': [{'city': None,\n",
              "    'country': None,\n",
              "    'level': 'international',\n",
              "    'state': None}],\n",
              "  'title': None},\n",
              " 'summary': {'sentences': ['On Sunday, British Prime Minister Boris Johnson was hospitalized \"for tests\" because of \"persistent\" COVID-19 symptoms\\xa010 days\\xa0after he tested positive, CNN reports.',\n",
              "   'On March 26, Johnson revealed he had tested positive and that he had been dealing with symptoms since that date.',\n",
              "   \"Roughly a month ago, right around the time the U.K. started dealing with an outbreak, Johnson garnered media coverage for saying he'd shook hands with coronavirus patients during a hospital visit.\",\n",
              "   '\"I shook hands with everybody, you will be pleased to know, and I continue to shake hands,\" Johnson said during a press conference that took place on March 3.',\n",
              "   \"On Saturday, Johnson's fiancée, Carrie Symonds, tweeted out that she'd spent a week in bed with coronavirus symptoms.\"]},\n",
              " 'title': 'British Prime Minister Boris Johnson Hospitalized 10 Days After COVID-19 Diagnosis',\n",
              " 'words_count': 218}"
            ]
          },
          "metadata": {
            "tags": []
          },
          "execution_count": 21
        }
      ]
    },
    {
      "cell_type": "code",
      "metadata": {
        "id": "SKVsUNM3OtIa",
        "colab_type": "code",
        "outputId": "b0f77403-92e8-4160-a51f-3f88184b82c8",
        "colab": {
          "base_uri": "https://localhost:8080/",
          "height": 34
        }
      },
      "source": [
        "js['source']['locations']"
      ],
      "execution_count": 22,
      "outputs": [
        {
          "output_type": "execute_result",
          "data": {
            "text/plain": [
              "[{'city': 'New York', 'country': 'US', 'state': 'New York'}]"
            ]
          },
          "metadata": {
            "tags": []
          },
          "execution_count": 22
        }
      ]
    },
    {
      "cell_type": "code",
      "metadata": {
        "id": "2q52DnpisY-d",
        "colab_type": "code",
        "outputId": "2ed8a817-6e8b-4b0a-ccbf-48a2dcbfd91c",
        "colab": {
          "base_uri": "https://localhost:8080/",
          "height": 34
        }
      },
      "source": [
        "source_city=js['source']['locations'][0]['city']\n",
        "source_city"
      ],
      "execution_count": 23,
      "outputs": [
        {
          "output_type": "execute_result",
          "data": {
            "text/plain": [
              "'New York'"
            ]
          },
          "metadata": {
            "tags": []
          },
          "execution_count": 23
        }
      ]
    },
    {
      "cell_type": "code",
      "metadata": {
        "id": "NHVlvWfPsZBY",
        "colab_type": "code",
        "outputId": "0f94f72b-39ce-4f5f-e4ea-dfca0cb32377",
        "colab": {
          "base_uri": "https://localhost:8080/",
          "height": 34
        }
      },
      "source": [
        "source_country=js['source']['locations'][0]['country']\n",
        "source_country"
      ],
      "execution_count": 24,
      "outputs": [
        {
          "output_type": "execute_result",
          "data": {
            "text/plain": [
              "'US'"
            ]
          },
          "metadata": {
            "tags": []
          },
          "execution_count": 24
        }
      ]
    },
    {
      "cell_type": "code",
      "metadata": {
        "id": "8aowgzlZOrF-",
        "colab_type": "code",
        "outputId": "c36f8809-2399-4fcf-a8ed-bb4e3c512272",
        "colab": {
          "base_uri": "https://localhost:8080/",
          "height": 34
        }
      },
      "source": [
        "source_state=js['source']['locations'][0]['state']\n",
        "source_state"
      ],
      "execution_count": 25,
      "outputs": [
        {
          "output_type": "execute_result",
          "data": {
            "text/plain": [
              "'New York'"
            ]
          },
          "metadata": {
            "tags": []
          },
          "execution_count": 25
        }
      ]
    },
    {
      "cell_type": "code",
      "metadata": {
        "id": "1Zn-a4mmsZEH",
        "colab_type": "code",
        "colab": {}
      },
      "source": [
        ""
      ],
      "execution_count": 0,
      "outputs": []
    },
    {
      "cell_type": "code",
      "metadata": {
        "id": "NY05Uc1SOxsi",
        "colab_type": "code",
        "colab": {}
      },
      "source": [
        "\n",
        "author_id=[]\n",
        "author_name=[]\n",
        "news_text=[]\n",
        "\n",
        "hashtags=[]\n",
        "published_at=[]\n",
        "polarity_positive=[]\n",
        "polarity_positive_score=[]\n",
        "summary=[]\n",
        "title=[]\n",
        "source_city=[]\n",
        "source_country=[]\n",
        "\n",
        "source_state=[]\n",
        "\n",
        "\n"
      ],
      "execution_count": 0,
      "outputs": []
    },
    {
      "cell_type": "code",
      "metadata": {
        "id": "Qdf-0-A3V_Jf",
        "colab_type": "code",
        "colab": {}
      },
      "source": [
        "\n",
        "with jsonlines.open('aylien-covid-news.jsonl') as f:\n",
        "\n",
        "    for line in f.iter():\n",
        "        js=line\n",
        "        author_id.append(js['author']['id'])\n",
        "        author_name.append(js['author']['name'])\n",
        "        news_text.append(js['body'])\n",
        "\n",
        "        hashtags.append(js['hashtags'])\n",
        "        published_at.append(js['published_at'])\n",
        "\n",
        "       \n",
        "        summary.append(js['summary']['sentences'])\n",
        "        title.append(js['title'])\n",
        "\n",
        "        if len(js['source']['locations'])>1:\n",
        "\n",
        "          source_city.append(js['source']['locations'][0]['city'])\n",
        "          source_country.append(js['source']['locations'][0]['country'])\n",
        "\n",
        "          source_state.append(js['source']['locations'][0]['state'])\n",
        "        else:\n",
        "          source_city.append(\"NA\")\n",
        "          source_country.append(\"NA\")\n",
        "          source_state.append(\"NA\")\n",
        "\n",
        "\n",
        "        "
      ],
      "execution_count": 0,
      "outputs": []
    },
    {
      "cell_type": "code",
      "metadata": {
        "id": "k1b_c1WZXPEP",
        "colab_type": "code",
        "colab": {}
      },
      "source": [
        "\n"
      ],
      "execution_count": 0,
      "outputs": []
    },
    {
      "cell_type": "code",
      "metadata": {
        "id": "0h1eZQNkY9i1",
        "colab_type": "code",
        "colab": {}
      },
      "source": [
        "import pandas as pd"
      ],
      "execution_count": 0,
      "outputs": []
    },
    {
      "cell_type": "code",
      "metadata": {
        "id": "EiuPOtSQY_pE",
        "colab_type": "code",
        "colab": {}
      },
      "source": [
        "\n",
        "df=pd.DataFrame({\"author_id\":author_id,\"author_name\":author_name,\"news_text\":news_text,\"hashtags\":hashtags,\"published_at\":published_at,\"summary\":summary,\"title\":title,\"source_city\":source_city,\"source_country\":source_country,\"source_state\":source_state})"
      ],
      "execution_count": 0,
      "outputs": []
    },
    {
      "cell_type": "code",
      "metadata": {
        "id": "wGx-JmljZAMH",
        "colab_type": "code",
        "outputId": "d6ec2d00-3979-4a44-895c-12a95f10426c",
        "colab": {
          "base_uri": "https://localhost:8080/",
          "height": 626
        }
      },
      "source": [
        "df.head()"
      ],
      "execution_count": 30,
      "outputs": [
        {
          "output_type": "execute_result",
          "data": {
            "text/html": [
              "<div>\n",
              "<style scoped>\n",
              "    .dataframe tbody tr th:only-of-type {\n",
              "        vertical-align: middle;\n",
              "    }\n",
              "\n",
              "    .dataframe tbody tr th {\n",
              "        vertical-align: top;\n",
              "    }\n",
              "\n",
              "    .dataframe thead th {\n",
              "        text-align: right;\n",
              "    }\n",
              "</style>\n",
              "<table border=\"1\" class=\"dataframe\">\n",
              "  <thead>\n",
              "    <tr style=\"text-align: right;\">\n",
              "      <th></th>\n",
              "      <th>author_id</th>\n",
              "      <th>author_name</th>\n",
              "      <th>news_text</th>\n",
              "      <th>hashtags</th>\n",
              "      <th>published_at</th>\n",
              "      <th>summary</th>\n",
              "      <th>title</th>\n",
              "      <th>source_city</th>\n",
              "      <th>source_country</th>\n",
              "      <th>source_state</th>\n",
              "    </tr>\n",
              "  </thead>\n",
              "  <tbody>\n",
              "    <tr>\n",
              "      <th>0</th>\n",
              "      <td>973106</td>\n",
              "      <td>Gavin Evans</td>\n",
              "      <td>On Sunday, British Prime Minister Boris Johnso...</td>\n",
              "      <td>[#PrimeMinisterOfTheUnitedKingdom, #BorisJohns...</td>\n",
              "      <td>2020-04-05 23:59:42+00:00</td>\n",
              "      <td>[On Sunday, British Prime Minister Boris Johns...</td>\n",
              "      <td>British Prime Minister Boris Johnson Hospitali...</td>\n",
              "      <td>NA</td>\n",
              "      <td>NA</td>\n",
              "      <td>NA</td>\n",
              "    </tr>\n",
              "    <tr>\n",
              "      <th>1</th>\n",
              "      <td>940858</td>\n",
              "      <td>Australia</td>\n",
              "      <td>NSW has now recorded 18 COVID-19 deaths as the...</td>\n",
              "      <td>[#Coronavirus, #CruiseShip, #MinistryOfHealth,...</td>\n",
              "      <td>2020-04-05 23:59:36+00:00</td>\n",
              "      <td>[NSW has now recorded 18 COVID-19 deaths as th...</td>\n",
              "      <td>NSW coronavirus death toll hits 18 as cases ri...</td>\n",
              "      <td>NA</td>\n",
              "      <td>NA</td>\n",
              "      <td>NA</td>\n",
              "    </tr>\n",
              "    <tr>\n",
              "      <th>2</th>\n",
              "      <td>941178</td>\n",
              "      <td>Ht Correspondent</td>\n",
              "      <td>ChandigarhWith shops and manufacturing units c...</td>\n",
              "      <td>[#Curfew, #Chandigarh, #Lockdown, #Pandemic, #...</td>\n",
              "      <td>2020-04-05 23:59:32+00:00</td>\n",
              "      <td>[ChandigarhWith shops and manufacturing units ...</td>\n",
              "      <td>Industry in Chandigarh will need major impetus...</td>\n",
              "      <td>NA</td>\n",
              "      <td>NA</td>\n",
              "      <td>NA</td>\n",
              "    </tr>\n",
              "    <tr>\n",
              "      <th>3</th>\n",
              "      <td>1588290</td>\n",
              "      <td>Amanjeet Singh Salyal</td>\n",
              "      <td>Chandigarh The 23-year-old man, discharged fro...</td>\n",
              "      <td>[#Chandigarh, #Coronavirus, #Hospital, #Fever,...</td>\n",
              "      <td>2020-04-05 23:59:32+00:00</td>\n",
              "      <td>[Chandigarh The 23-year-old man, discharged fr...</td>\n",
              "      <td>Coronavirus in Chandigarh: Follow advisories, ...</td>\n",
              "      <td>NA</td>\n",
              "      <td>NA</td>\n",
              "      <td>NA</td>\n",
              "    </tr>\n",
              "    <tr>\n",
              "      <th>4</th>\n",
              "      <td>941178</td>\n",
              "      <td>Ht Correspondent</td>\n",
              "      <td>CHANDIGARH The stillness which had become so m...</td>\n",
              "      <td>[#Chandigarh, #TricityPoland, #Coronavirus, #P...</td>\n",
              "      <td>2020-04-05 23:59:32+00:00</td>\n",
              "      <td>[CHANDIGARH The stillness which had become so ...</td>\n",
              "      <td>Crackers sound jarring note as Chandigarh tric...</td>\n",
              "      <td>NA</td>\n",
              "      <td>NA</td>\n",
              "      <td>NA</td>\n",
              "    </tr>\n",
              "  </tbody>\n",
              "</table>\n",
              "</div>"
            ],
            "text/plain": [
              "   author_id            author_name  ... source_country source_state\n",
              "0     973106            Gavin Evans  ...             NA           NA\n",
              "1     940858              Australia  ...             NA           NA\n",
              "2     941178       Ht Correspondent  ...             NA           NA\n",
              "3    1588290  Amanjeet Singh Salyal  ...             NA           NA\n",
              "4     941178       Ht Correspondent  ...             NA           NA\n",
              "\n",
              "[5 rows x 10 columns]"
            ]
          },
          "metadata": {
            "tags": []
          },
          "execution_count": 30
        }
      ]
    },
    {
      "cell_type": "code",
      "metadata": {
        "id": "H9PEqLJxgAyS",
        "colab_type": "code",
        "colab": {}
      },
      "source": [
        ""
      ],
      "execution_count": 0,
      "outputs": []
    },
    {
      "cell_type": "code",
      "metadata": {
        "id": "H_1RHLg4ZAPc",
        "colab_type": "code",
        "outputId": "a1e5ff72-dc35-43da-a043-50dfefb64ce4",
        "colab": {
          "base_uri": "https://localhost:8080/",
          "height": 695
        }
      },
      "source": [
        "df.tail()"
      ],
      "execution_count": 31,
      "outputs": [
        {
          "output_type": "execute_result",
          "data": {
            "text/html": [
              "<div>\n",
              "<style scoped>\n",
              "    .dataframe tbody tr th:only-of-type {\n",
              "        vertical-align: middle;\n",
              "    }\n",
              "\n",
              "    .dataframe tbody tr th {\n",
              "        vertical-align: top;\n",
              "    }\n",
              "\n",
              "    .dataframe thead th {\n",
              "        text-align: right;\n",
              "    }\n",
              "</style>\n",
              "<table border=\"1\" class=\"dataframe\">\n",
              "  <thead>\n",
              "    <tr style=\"text-align: right;\">\n",
              "      <th></th>\n",
              "      <th>author_id</th>\n",
              "      <th>author_name</th>\n",
              "      <th>news_text</th>\n",
              "      <th>hashtags</th>\n",
              "      <th>published_at</th>\n",
              "      <th>summary</th>\n",
              "      <th>title</th>\n",
              "      <th>source_city</th>\n",
              "      <th>source_country</th>\n",
              "      <th>source_state</th>\n",
              "    </tr>\n",
              "  </thead>\n",
              "  <tbody>\n",
              "    <tr>\n",
              "      <th>528843</th>\n",
              "      <td>1153300</td>\n",
              "      <td></td>\n",
              "      <td>2019 NOV 14 (NewsRx) -- By a News Reporter-Sta...</td>\n",
              "      <td>[#Kidney, #Coronavirus, #Utrecht, #Receptor, #...</td>\n",
              "      <td>2019-11-14 23:06:35+00:00</td>\n",
              "      <td>[According to news reporting originating in Ut...</td>\n",
              "      <td>New Coronavirus Study Findings Recently Were R...</td>\n",
              "      <td>NA</td>\n",
              "      <td>NA</td>\n",
              "      <td>NA</td>\n",
              "    </tr>\n",
              "    <tr>\n",
              "      <th>528844</th>\n",
              "      <td>941544</td>\n",
              "      <td>Sebastian Kettley</td>\n",
              "      <td>The theoretical disease is ranked with Ebola, ...</td>\n",
              "      <td>[#EbolaVirusDisease, #WHO, #WorldHealthOrganiz...</td>\n",
              "      <td>2019-11-14 21:37:01+00:00</td>\n",
              "      <td>[The theoretical disease is ranked with Ebola,...</td>\n",
              "      <td>Disease X? New virus discovered in the body st...</td>\n",
              "      <td>NA</td>\n",
              "      <td>NA</td>\n",
              "      <td>NA</td>\n",
              "    </tr>\n",
              "    <tr>\n",
              "      <th>528845</th>\n",
              "      <td>1158714</td>\n",
              "      <td></td>\n",
              "      <td>11/11/2019 S217 - - Supplies - Contract notice...</td>\n",
              "      <td>[#Procurement, #EuropeanUnion, #NUTS, #Nomencl...</td>\n",
              "      <td>2019-11-11 08:11:34+00:00</td>\n",
              "      <td>[Cyril and Methodius University Faculty of Med...</td>\n",
              "      <td>North Macedonia-Skopje: Laboratory reagents</td>\n",
              "      <td>NA</td>\n",
              "      <td>NA</td>\n",
              "      <td>NA</td>\n",
              "    </tr>\n",
              "    <tr>\n",
              "      <th>528846</th>\n",
              "      <td>594845</td>\n",
              "      <td></td>\n",
              "      <td>New Delhi: Bats in some parts of northeast Ind...</td>\n",
              "      <td>[#Filoviridae, #Virus, #Bat, #Antibody, #Nagal...</td>\n",
              "      <td>2019-11-01 06:51:38+00:00</td>\n",
              "      <td>[New Delhi: Bats in some parts of northeast In...</td>\n",
              "      <td>Nagaland Groups Hunting Bats May be at Risk as...</td>\n",
              "      <td>NA</td>\n",
              "      <td>NA</td>\n",
              "      <td>NA</td>\n",
              "    </tr>\n",
              "    <tr>\n",
              "      <th>528847</th>\n",
              "      <td>418438</td>\n",
              "      <td></td>\n",
              "      <td>NEW DELHI: Bats in some parts of Nagaland may ...</td>\n",
              "      <td>[#Virus, #Filoviridae, #Bat, #Antibody, #Nagal...</td>\n",
              "      <td>2019-11-01 06:45:40+00:00</td>\n",
              "      <td>[NEW DELHI: Bats in some parts of Nagaland may...</td>\n",
              "      <td>Bats in Nagaland may carry Ebola family of vir...</td>\n",
              "      <td>NA</td>\n",
              "      <td>NA</td>\n",
              "      <td>NA</td>\n",
              "    </tr>\n",
              "  </tbody>\n",
              "</table>\n",
              "</div>"
            ],
            "text/plain": [
              "        author_id        author_name  ... source_country source_state\n",
              "528843    1153300                     ...             NA           NA\n",
              "528844     941544  Sebastian Kettley  ...             NA           NA\n",
              "528845    1158714                     ...             NA           NA\n",
              "528846     594845                     ...             NA           NA\n",
              "528847     418438                     ...             NA           NA\n",
              "\n",
              "[5 rows x 10 columns]"
            ]
          },
          "metadata": {
            "tags": []
          },
          "execution_count": 31
        }
      ]
    },
    {
      "cell_type": "code",
      "metadata": {
        "id": "SoVymSylgJzS",
        "colab_type": "code",
        "colab": {}
      },
      "source": [
        "df.to_csv(\"Aylien_text.csv\",index=False)"
      ],
      "execution_count": 0,
      "outputs": []
    },
    {
      "cell_type": "code",
      "metadata": {
        "id": "Ggjx6TUujL7k",
        "colab_type": "code",
        "colab": {}
      },
      "source": [
        ""
      ],
      "execution_count": 0,
      "outputs": []
    },
    {
      "cell_type": "code",
      "metadata": {
        "id": "bHR7kIIS0YPT",
        "colab_type": "code",
        "colab": {}
      },
      "source": [
        ""
      ],
      "execution_count": 0,
      "outputs": []
    },
    {
      "cell_type": "code",
      "metadata": {
        "id": "1KO9V9tB0YhP",
        "colab_type": "code",
        "colab": {}
      },
      "source": [
        ""
      ],
      "execution_count": 0,
      "outputs": []
    },
    {
      "cell_type": "code",
      "metadata": {
        "id": "Dw27Nfto0Ykr",
        "colab_type": "code",
        "colab": {}
      },
      "source": [
        ""
      ],
      "execution_count": 0,
      "outputs": []
    },
    {
      "cell_type": "code",
      "metadata": {
        "id": "E3kyCZdl0YK8",
        "colab_type": "code",
        "colab": {}
      },
      "source": [
        ""
      ],
      "execution_count": 0,
      "outputs": []
    }
  ]
}